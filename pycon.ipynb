{
 "cells": [
  {
   "cell_type": "code",
   "execution_count": 1,
   "metadata": {
    "collapsed": true
   },
   "outputs": [],
   "source": [
    "import igraph\n",
    "import pandas as pd\n",
    "\n",
    "from collections import Counter\n"
   ]
  },
  {
   "cell_type": "markdown",
   "metadata": {},
   "source": [
    "## Load graph"
   ]
  },
  {
   "cell_type": "code",
   "execution_count": 2,
   "metadata": {
    "collapsed": true
   },
   "outputs": [],
   "source": [
    "g = igraph.read('pycon.graphml', format='graphml')"
   ]
  },
  {
   "cell_type": "code",
   "execution_count": 3,
   "metadata": {
    "collapsed": false
   },
   "outputs": [
    {
     "data": {
      "text/plain": [
       "'IGRAPH UN-- 494 1664 -- \\n+ attr: city (v), education (v), followers (v), friends (v), gender (v), id (v), locale (v), name (v), status (v), work (v), work_employer (v)'"
      ]
     },
     "execution_count": 3,
     "metadata": {},
     "output_type": "execute_result"
    }
   ],
   "source": [
    "g.summary()"
   ]
  },
  {
   "cell_type": "code",
   "execution_count": 4,
   "metadata": {
    "collapsed": true
   },
   "outputs": [],
   "source": [
    "g.to_undirected()"
   ]
  },
  {
   "cell_type": "code",
   "execution_count": 5,
   "metadata": {
    "collapsed": true
   },
   "outputs": [],
   "source": [
    "g_connected = g.clusters().giant()"
   ]
  },
  {
   "cell_type": "code",
   "execution_count": 6,
   "metadata": {
    "collapsed": false
   },
   "outputs": [
    {
     "data": {
      "text/plain": [
       "'IGRAPH UN-- 391 1647 -- \\n+ attr: city (v), education (v), followers (v), friends (v), gender (v), id (v), locale (v), name (v), status (v), work (v), work_employer (v)'"
      ]
     },
     "execution_count": 6,
     "metadata": {},
     "output_type": "execute_result"
    }
   ],
   "source": [
    "g_connected.summary()"
   ]
  },
  {
   "cell_type": "markdown",
   "metadata": {},
   "source": [
    "## \"Important\" persons"
   ]
  },
  {
   "cell_type": "code",
   "execution_count": 7,
   "metadata": {
    "collapsed": true
   },
   "outputs": [],
   "source": [
    "def get_top(g, metric, n=10):\n",
    "    return sorted(zip(getattr(g, metric)(), g.vs['name']), reverse=True)[:n]"
   ]
  },
  {
   "cell_type": "code",
   "execution_count": 8,
   "metadata": {
    "collapsed": false
   },
   "outputs": [
    {
     "data": {
      "text/plain": [
       "[(58, 'Taras  Lyapun'),\n",
       " (51, 'Volodymyr Hotsyk'),\n",
       " (49, 'Mikhail Kashkin'),\n",
       " (47, 'Ksenya Baluk'),\n",
       " (40, 'Yehor Nazarkin'),\n",
       " (34, 'Miya Zheplinska'),\n",
       " (33, 'Paul Colomiets'),\n",
       " (33, 'Kyrylo Perevozchikov'),\n",
       " (32, 'Marianna Mavdryk'),\n",
       " (32, 'Alexander Lyabah')]"
      ]
     },
     "execution_count": 8,
     "metadata": {},
     "output_type": "execute_result"
    }
   ],
   "source": [
    "get_top(g_connected, 'degree')"
   ]
  },
  {
   "cell_type": "code",
   "execution_count": 9,
   "metadata": {
    "collapsed": false,
    "scrolled": true
   },
   "outputs": [
    {
     "data": {
      "text/plain": [
       "[(0.43869516310461193, 'Ksenya Baluk'),\n",
       " (0.4157782515991471, 'Volodymyr Hotsyk'),\n",
       " (0.4140127388535032, 'Taras  Lyapun'),\n",
       " (0.4118268215417107, 'Mikhail Kashkin'),\n",
       " (0.3951367781155015, 'Alexander Lyabah'),\n",
       " (0.3943377148634985, 'Yehor Nazarkin'),\n",
       " (0.39117352056168503, 'Miya Zheplinska'),\n",
       " (0.38961038961038963, 'Irina  Sulatskaya'),\n",
       " (0.38767395626242546, 'Marianna Mavdryk'),\n",
       " (0.3872889771598808, 'Igor Gor Lushchyk')]"
      ]
     },
     "execution_count": 9,
     "metadata": {},
     "output_type": "execute_result"
    }
   ],
   "source": [
    "get_top(g_connected, 'closeness')"
   ]
  },
  {
   "cell_type": "code",
   "execution_count": 10,
   "metadata": {
    "collapsed": false
   },
   "outputs": [
    {
     "data": {
      "text/plain": [
       "[(10103.151498583247, 'Ksenya Baluk'),\n",
       " (7935.2898040095115, 'Taras  Lyapun'),\n",
       " (6217.986765676486, 'Mikhail Kashkin'),\n",
       " (5563.020852769037, 'Volodymyr Hotsyk'),\n",
       " (3687.125635951954, 'Alexander Lyabah'),\n",
       " (3509.7810585103975, 'Miya Zheplinska'),\n",
       " (3359.463606093812, 'Ira  Osoba'),\n",
       " (3227.7578038468246, 'Orysia Khimiak'),\n",
       " (2735.1826063529993, 'Marianna Mavdryk'),\n",
       " (2723.280343768928, 'Mariana Kira')]"
      ]
     },
     "execution_count": 10,
     "metadata": {},
     "output_type": "execute_result"
    }
   ],
   "source": [
    "get_top(g_connected, 'betweenness')"
   ]
  },
  {
   "cell_type": "code",
   "execution_count": 11,
   "metadata": {
    "collapsed": true
   },
   "outputs": [],
   "source": [
    "important_persons =  pd.DataFrame({\n",
    "    'degree': [name for _, name in get_top(g_connected, 'degree')],\n",
    "    'closeness': [name for _, name in get_top(g_connected, 'closeness')],\n",
    "    'betweenness': [name for _, name in get_top(g_connected, 'betweenness')],\n",
    "    'eigenvector_centrality': [name for _, name in get_top(g_connected, 'eigenvector_centrality')],\n",
    "    'pagerank': [name for _, name in get_top(g_connected, 'pagerank')],\n",
    "})"
   ]
  },
  {
   "cell_type": "code",
   "execution_count": 12,
   "metadata": {
    "collapsed": false
   },
   "outputs": [
    {
     "data": {
      "text/html": [
       "<div>\n",
       "<table border=\"1\" class=\"dataframe\">\n",
       "  <thead>\n",
       "    <tr style=\"text-align: right;\">\n",
       "      <th></th>\n",
       "      <th>betweenness</th>\n",
       "      <th>closeness</th>\n",
       "      <th>degree</th>\n",
       "      <th>eigenvector_centrality</th>\n",
       "      <th>pagerank</th>\n",
       "    </tr>\n",
       "  </thead>\n",
       "  <tbody>\n",
       "    <tr>\n",
       "      <th>0</th>\n",
       "      <td>Ksenya Baluk</td>\n",
       "      <td>Ksenya Baluk</td>\n",
       "      <td>Taras  Lyapun</td>\n",
       "      <td>Taras  Lyapun</td>\n",
       "      <td>Taras  Lyapun</td>\n",
       "    </tr>\n",
       "    <tr>\n",
       "      <th>1</th>\n",
       "      <td>Taras  Lyapun</td>\n",
       "      <td>Volodymyr Hotsyk</td>\n",
       "      <td>Volodymyr Hotsyk</td>\n",
       "      <td>Volodymyr Hotsyk</td>\n",
       "      <td>Mikhail Kashkin</td>\n",
       "    </tr>\n",
       "    <tr>\n",
       "      <th>2</th>\n",
       "      <td>Mikhail Kashkin</td>\n",
       "      <td>Taras  Lyapun</td>\n",
       "      <td>Mikhail Kashkin</td>\n",
       "      <td>Mikhail Kashkin</td>\n",
       "      <td>Volodymyr Hotsyk</td>\n",
       "    </tr>\n",
       "    <tr>\n",
       "      <th>3</th>\n",
       "      <td>Volodymyr Hotsyk</td>\n",
       "      <td>Mikhail Kashkin</td>\n",
       "      <td>Ksenya Baluk</td>\n",
       "      <td>Yehor Nazarkin</td>\n",
       "      <td>Ksenya Baluk</td>\n",
       "    </tr>\n",
       "    <tr>\n",
       "      <th>4</th>\n",
       "      <td>Alexander Lyabah</td>\n",
       "      <td>Alexander Lyabah</td>\n",
       "      <td>Yehor Nazarkin</td>\n",
       "      <td>Paul Colomiets</td>\n",
       "      <td>Yehor Nazarkin</td>\n",
       "    </tr>\n",
       "    <tr>\n",
       "      <th>5</th>\n",
       "      <td>Miya Zheplinska</td>\n",
       "      <td>Yehor Nazarkin</td>\n",
       "      <td>Miya Zheplinska</td>\n",
       "      <td>Ksenya Baluk</td>\n",
       "      <td>Miya Zheplinska</td>\n",
       "    </tr>\n",
       "    <tr>\n",
       "      <th>6</th>\n",
       "      <td>Ira  Osoba</td>\n",
       "      <td>Miya Zheplinska</td>\n",
       "      <td>Paul Colomiets</td>\n",
       "      <td>Kyrylo Perevozchikov</td>\n",
       "      <td>Orysia Khimiak</td>\n",
       "    </tr>\n",
       "    <tr>\n",
       "      <th>7</th>\n",
       "      <td>Orysia Khimiak</td>\n",
       "      <td>Irina  Sulatskaya</td>\n",
       "      <td>Kyrylo Perevozchikov</td>\n",
       "      <td>Alexander Lyabah</td>\n",
       "      <td>Aleksey Radchenko</td>\n",
       "    </tr>\n",
       "    <tr>\n",
       "      <th>8</th>\n",
       "      <td>Marianna Mavdryk</td>\n",
       "      <td>Marianna Mavdryk</td>\n",
       "      <td>Marianna Mavdryk</td>\n",
       "      <td>Igor Davydenko</td>\n",
       "      <td>Alexander Lyabah</td>\n",
       "    </tr>\n",
       "    <tr>\n",
       "      <th>9</th>\n",
       "      <td>Mariana Kira</td>\n",
       "      <td>Igor Gor Lushchyk</td>\n",
       "      <td>Alexander Lyabah</td>\n",
       "      <td>Vsevolod Solovyov</td>\n",
       "      <td>Kyrylo Perevozchikov</td>\n",
       "    </tr>\n",
       "  </tbody>\n",
       "</table>\n",
       "</div>"
      ],
      "text/plain": [
       "        betweenness          closeness                degree  \\\n",
       "0      Ksenya Baluk       Ksenya Baluk         Taras  Lyapun   \n",
       "1     Taras  Lyapun   Volodymyr Hotsyk      Volodymyr Hotsyk   \n",
       "2   Mikhail Kashkin      Taras  Lyapun       Mikhail Kashkin   \n",
       "3  Volodymyr Hotsyk    Mikhail Kashkin          Ksenya Baluk   \n",
       "4  Alexander Lyabah   Alexander Lyabah        Yehor Nazarkin   \n",
       "5   Miya Zheplinska     Yehor Nazarkin       Miya Zheplinska   \n",
       "6        Ira  Osoba    Miya Zheplinska        Paul Colomiets   \n",
       "7    Orysia Khimiak  Irina  Sulatskaya  Kyrylo Perevozchikov   \n",
       "8  Marianna Mavdryk   Marianna Mavdryk      Marianna Mavdryk   \n",
       "9      Mariana Kira  Igor Gor Lushchyk      Alexander Lyabah   \n",
       "\n",
       "  eigenvector_centrality              pagerank  \n",
       "0          Taras  Lyapun         Taras  Lyapun  \n",
       "1       Volodymyr Hotsyk       Mikhail Kashkin  \n",
       "2        Mikhail Kashkin      Volodymyr Hotsyk  \n",
       "3         Yehor Nazarkin          Ksenya Baluk  \n",
       "4         Paul Colomiets        Yehor Nazarkin  \n",
       "5           Ksenya Baluk       Miya Zheplinska  \n",
       "6   Kyrylo Perevozchikov        Orysia Khimiak  \n",
       "7       Alexander Lyabah     Aleksey Radchenko  \n",
       "8         Igor Davydenko      Alexander Lyabah  \n",
       "9      Vsevolod Solovyov  Kyrylo Perevozchikov  "
      ]
     },
     "execution_count": 12,
     "metadata": {},
     "output_type": "execute_result"
    }
   ],
   "source": [
    "important_persons"
   ]
  },
  {
   "cell_type": "markdown",
   "metadata": {},
   "source": [
    "## Clusters"
   ]
  },
  {
   "cell_type": "code",
   "execution_count": 13,
   "metadata": {
    "collapsed": true
   },
   "outputs": [],
   "source": [
    "multilevel_communities = g_connected.community_multilevel()"
   ]
  },
  {
   "cell_type": "code",
   "execution_count": 14,
   "metadata": {
    "collapsed": false
   },
   "outputs": [
    {
     "data": {
      "text/plain": [
       "[28, 3, 6, 99, 76, 28, 60, 8, 22, 45, 13, 3]"
      ]
     },
     "execution_count": 14,
     "metadata": {},
     "output_type": "execute_result"
    }
   ],
   "source": [
    "multilevel_communities.sizes()"
   ]
  },
  {
   "cell_type": "code",
   "execution_count": 15,
   "metadata": {
    "collapsed": false
   },
   "outputs": [
    {
     "data": {
      "text/plain": [
       "0.524317363836808"
      ]
     },
     "execution_count": 15,
     "metadata": {},
     "output_type": "execute_result"
    }
   ],
   "source": [
    "multilevel_communities.modularity"
   ]
  },
  {
   "cell_type": "code",
   "execution_count": 16,
   "metadata": {
    "collapsed": true
   },
   "outputs": [],
   "source": [
    "walktrap = g_connected.community_walktrap(steps=10)"
   ]
  },
  {
   "cell_type": "code",
   "execution_count": 17,
   "metadata": {
    "collapsed": false
   },
   "outputs": [],
   "source": [
    "walktrap_communities = walktrap.as_clustering(n=10)"
   ]
  },
  {
   "cell_type": "code",
   "execution_count": 18,
   "metadata": {
    "collapsed": false
   },
   "outputs": [
    {
     "data": {
      "text/plain": [
       "[327, 2, 6, 3, 2, 6, 33, 8, 2, 2]"
      ]
     },
     "execution_count": 18,
     "metadata": {},
     "output_type": "execute_result"
    }
   ],
   "source": [
    "walktrap_communities.sizes()"
   ]
  },
  {
   "cell_type": "code",
   "execution_count": 19,
   "metadata": {
    "collapsed": true
   },
   "outputs": [],
   "source": [
    "g_connected.vs.set_attribute_values('multilevel_communities',multilevel_communities.membership)\n",
    "g_connected.vs.set_attribute_values('walktrap_communities',walktrap_communities.membership)"
   ]
  },
  {
   "cell_type": "code",
   "execution_count": 20,
   "metadata": {
    "collapsed": true
   },
   "outputs": [],
   "source": [
    "g_connected.write('pycon_final.graphml')"
   ]
  },
  {
   "cell_type": "markdown",
   "metadata": {},
   "source": [
    "## Investigate community"
   ]
  },
  {
   "cell_type": "code",
   "execution_count": 44,
   "metadata": {
    "collapsed": true
   },
   "outputs": [],
   "source": [
    "COMMUNITY_NUMBER = 6"
   ]
  },
  {
   "cell_type": "code",
   "execution_count": 45,
   "metadata": {
    "collapsed": true
   },
   "outputs": [],
   "source": [
    "user_likes = pd.read_csv('user_likes.csv', encoding='utf-8')"
   ]
  },
  {
   "cell_type": "code",
   "execution_count": 46,
   "metadata": {
    "collapsed": true
   },
   "outputs": [],
   "source": [
    "pages = pd.read_csv('pages.csv', encoding='utf-8')"
   ]
  },
  {
   "cell_type": "code",
   "execution_count": 47,
   "metadata": {
    "collapsed": true
   },
   "outputs": [],
   "source": [
    "user_page_likes = pd.crosstab(user_likes['user'], user_likes['page'])"
   ]
  },
  {
   "cell_type": "code",
   "execution_count": 48,
   "metadata": {
    "collapsed": true
   },
   "outputs": [],
   "source": [
    "clusters = pd.DataFrame({'id': g_connected.vs['id'], 'cluster': walktrap_communities.membership})"
   ]
  },
  {
   "cell_type": "code",
   "execution_count": 49,
   "metadata": {
    "collapsed": true
   },
   "outputs": [],
   "source": [
    "clusters['id'] = clusters['id'].astype('int64')\n",
    "clusters = clusters.set_index('id')"
   ]
  },
  {
   "cell_type": "code",
   "execution_count": 50,
   "metadata": {
    "collapsed": true
   },
   "outputs": [],
   "source": [
    "users_info = pd.concat([user_page_likes, clusters], axis=1)"
   ]
  },
  {
   "cell_type": "code",
   "execution_count": 51,
   "metadata": {
    "collapsed": true
   },
   "outputs": [],
   "source": [
    "from sklearn.feature_selection import SelectKBest, chi2"
   ]
  },
  {
   "cell_type": "code",
   "execution_count": 52,
   "metadata": {
    "collapsed": false
   },
   "outputs": [],
   "source": [
    "X_train = users_info.iloc[:,:-1].fillna(0)\n",
    "y_train = users_info['cluster'].map(lambda x: x if x == COMMUNITY_NUMBER else -1)"
   ]
  },
  {
   "cell_type": "code",
   "execution_count": 53,
   "metadata": {
    "collapsed": false
   },
   "outputs": [
    {
     "data": {
      "text/plain": [
       "Counter({-1.0: 443, 6.0: 33})"
      ]
     },
     "execution_count": 53,
     "metadata": {},
     "output_type": "execute_result"
    }
   ],
   "source": [
    "Counter(y_train)"
   ]
  },
  {
   "cell_type": "code",
   "execution_count": 54,
   "metadata": {
    "collapsed": false
   },
   "outputs": [
    {
     "data": {
      "text/plain": [
       "SelectKBest(k=10, score_func=<function chi2 at 0x111a02400>)"
      ]
     },
     "execution_count": 54,
     "metadata": {},
     "output_type": "execute_result"
    }
   ],
   "source": [
    "ch2 = SelectKBest(chi2, k=10)\n",
    "ch2.fit(X_train, y_train)"
   ]
  },
  {
   "cell_type": "code",
   "execution_count": 55,
   "metadata": {
    "collapsed": false
   },
   "outputs": [
    {
     "data": {
      "text/html": [
       "<div>\n",
       "<table border=\"1\" class=\"dataframe\">\n",
       "  <thead>\n",
       "    <tr style=\"text-align: right;\">\n",
       "      <th></th>\n",
       "      <th>Unnamed: 0</th>\n",
       "      <th>category</th>\n",
       "      <th>id</th>\n",
       "      <th>name</th>\n",
       "    </tr>\n",
       "  </thead>\n",
       "  <tbody>\n",
       "    <tr>\n",
       "      <th>2510</th>\n",
       "      <td>2510</td>\n",
       "      <td>education</td>\n",
       "      <td>1302106199823638</td>\n",
       "      <td>Бібліотека Українського католицького університету</td>\n",
       "    </tr>\n",
       "    <tr>\n",
       "      <th>15865</th>\n",
       "      <td>15865</td>\n",
       "      <td>education</td>\n",
       "      <td>205189619549019</td>\n",
       "      <td>UCU English Club</td>\n",
       "    </tr>\n",
       "    <tr>\n",
       "      <th>26684</th>\n",
       "      <td>26684</td>\n",
       "      <td>college &amp; university</td>\n",
       "      <td>420728451292296</td>\n",
       "      <td>Український католицький університет UCuniversity</td>\n",
       "    </tr>\n",
       "    <tr>\n",
       "      <th>34976</th>\n",
       "      <td>34976</td>\n",
       "      <td>education</td>\n",
       "      <td>1438295956464171</td>\n",
       "      <td>Програма з комп'ютерних наук УКУ/ CS UCU</td>\n",
       "    </tr>\n",
       "    <tr>\n",
       "      <th>38954</th>\n",
       "      <td>38954</td>\n",
       "      <td>college &amp; university</td>\n",
       "      <td>315310201979689</td>\n",
       "      <td>UCU International Office</td>\n",
       "    </tr>\n",
       "    <tr>\n",
       "      <th>41238</th>\n",
       "      <td>41238</td>\n",
       "      <td>education</td>\n",
       "      <td>1221107544577367</td>\n",
       "      <td>Мапа можливостей УКУ</td>\n",
       "    </tr>\n",
       "    <tr>\n",
       "      <th>41820</th>\n",
       "      <td>41820</td>\n",
       "      <td>local business</td>\n",
       "      <td>1813014238943812</td>\n",
       "      <td>Faculty of Applied Sciences of UCU</td>\n",
       "    </tr>\n",
       "    <tr>\n",
       "      <th>43044</th>\n",
       "      <td>43044</td>\n",
       "      <td>organization</td>\n",
       "      <td>226981620835395</td>\n",
       "      <td>Уряд Студентів УКУ/ UCU Student Government</td>\n",
       "    </tr>\n",
       "    <tr>\n",
       "      <th>58658</th>\n",
       "      <td>58658</td>\n",
       "      <td>computer company</td>\n",
       "      <td>713464742143141</td>\n",
       "      <td>Ukrainian Catholic Programmer ___ Український ...</td>\n",
       "    </tr>\n",
       "    <tr>\n",
       "      <th>61939</th>\n",
       "      <td>61939</td>\n",
       "      <td>education</td>\n",
       "      <td>102537843572610</td>\n",
       "      <td>Київський центр УКУ</td>\n",
       "    </tr>\n",
       "  </tbody>\n",
       "</table>\n",
       "</div>"
      ],
      "text/plain": [
       "       Unnamed: 0              category                id  \\\n",
       "2510         2510             education  1302106199823638   \n",
       "15865       15865             education   205189619549019   \n",
       "26684       26684  college & university   420728451292296   \n",
       "34976       34976             education  1438295956464171   \n",
       "38954       38954  college & university   315310201979689   \n",
       "41238       41238             education  1221107544577367   \n",
       "41820       41820        local business  1813014238943812   \n",
       "43044       43044          organization   226981620835395   \n",
       "58658       58658      computer company   713464742143141   \n",
       "61939       61939             education   102537843572610   \n",
       "\n",
       "                                                    name  \n",
       "2510   Бібліотека Українського католицького університету  \n",
       "15865                                   UCU English Club  \n",
       "26684   Український католицький університет UCuniversity  \n",
       "34976           Програма з комп'ютерних наук УКУ/ CS UCU  \n",
       "38954                           UCU International Office  \n",
       "41238                               Мапа можливостей УКУ  \n",
       "41820                 Faculty of Applied Sciences of UCU  \n",
       "43044         Уряд Студентів УКУ/ UCU Student Government  \n",
       "58658  Ukrainian Catholic Programmer ___ Український ...  \n",
       "61939                                Київський центр УКУ  "
      ]
     },
     "execution_count": 55,
     "metadata": {},
     "output_type": "execute_result"
    }
   ],
   "source": [
    "pages[pages['id'].isin(X_train.columns[ch2.get_support()])]"
   ]
  }
 ],
 "metadata": {
  "kernelspec": {
   "display_name": "Python [conda root]",
   "language": "python",
   "name": "conda-root-py"
  },
  "language_info": {
   "codemirror_mode": {
    "name": "ipython",
    "version": 3
   },
   "file_extension": ".py",
   "mimetype": "text/x-python",
   "name": "python",
   "nbconvert_exporter": "python",
   "pygments_lexer": "ipython3",
   "version": "3.5.2"
  }
 },
 "nbformat": 4,
 "nbformat_minor": 2
}
